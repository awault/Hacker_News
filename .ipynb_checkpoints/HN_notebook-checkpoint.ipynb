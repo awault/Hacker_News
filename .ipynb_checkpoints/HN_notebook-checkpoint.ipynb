{
 "cells": [
  {
   "cell_type": "markdown",
   "id": "6bbb23bb",
   "metadata": {},
   "source": [
    "# Analyzing Submissions to Hacker News\n"
   ]
  },
  {
   "cell_type": "markdown",
   "id": "e40cbf91",
   "metadata": {},
   "source": [
    "## Introduction"
   ]
  },
  {
   "cell_type": "markdown",
   "id": "d71fa21f",
   "metadata": {},
   "source": [
    "[Hacker News](https://news.ycombinator.com/) is a popular website where users can post stories and exchange ideas with other members in an online community. When users want to ask the community a specific question, the post title is prefixed with 'Ask HN:'. If a member wants to share a project or something interesting with the community, the post title is prefixed with 'Show HN'. Users can also submit links to other stories they find interesting and want to share with the community.\n",
    "\n",
    "Members can 'upvote' and comment on the posts, which effect their ranking in the newsfeed. It is not unusual for top ranked posts on Hacker News to receive more than 100,000 views."
   ]
  },
  {
   "cell_type": "markdown",
   "id": "1e660c72",
   "metadata": {},
   "source": [
    "### Objectives"
   ]
  },
  {
   "cell_type": "markdown",
   "id": "e8a6ba4f",
   "metadata": {},
   "source": [
    "We will use Jupyter Notebook to analyze a dataset from posts submitted to [Hacker News](https://news.ycombinator.com/).\n",
    "\n",
    "The purpose of our analysis is to determine the following:\n",
    "\n",
    "    1) Which type of posts receive the most comments on average?\n",
    "\n",
    "    2) Do posts created at a certain time receive more comments on average?"
   ]
  },
  {
   "cell_type": "markdown",
   "id": "c738564a",
   "metadata": {},
   "source": [
    "### Data"
   ]
  },
  {
   "cell_type": "markdown",
   "id": "aa4a04b6",
   "metadata": {},
   "source": [
    "The data for this analysis was obtained from [kaggle](https://www.kaggle.com/datasets/hacker-news/hacker-news-posts). We will use a random sample of posts which received comments from the kaggle dataset. Any posts that did not receive comments have been excluded from this analysis. The dataset includes more than 20,000 posts and spans from September 2015 until September 2016."
   ]
  },
  {
   "cell_type": "markdown",
   "id": "b1d9c6e3",
   "metadata": {},
   "source": [
    "Each records contains data for up to seven fields. A description of each field is provided below:\n",
    "    \n",
    "`id`: a unique identifier\n",
    "\n",
    "`title`: the title of the post\n",
    "\n",
    "`url`: if applicable, the url link included in the post\n",
    "\n",
    "`num_points`: the number of upvotes acquired by the post\n",
    "\n",
    "`num_comments`: the number of comments on the post\n",
    "\n",
    "`author`: the username of the member who submitted the post\n",
    "\n",
    "`created_at`: the date and time the post was submitted\n"
   ]
  },
  {
   "cell_type": "markdown",
   "id": "9f26ac09",
   "metadata": {},
   "source": [
    "## Importing Data"
   ]
  },
  {
   "cell_type": "markdown",
   "id": "7e87a3d4",
   "metadata": {},
   "source": [
    "The first step is to gather the data. We will read the dataset into Jupyter Notebook using the reader function in the CSV module."
   ]
  },
  {
   "cell_type": "code",
   "execution_count": 92,
   "id": "3e78cd91",
   "metadata": {},
   "outputs": [],
   "source": [
    "# Import the reader function from the CSV module\n",
    "\n",
    "from csv import reader"
   ]
  },
  {
   "cell_type": "code",
   "execution_count": 93,
   "id": "434d7374",
   "metadata": {},
   "outputs": [],
   "source": [
    "# Read the csv file as a list of lists\n",
    "\n",
    "open_file = open(r\"C:\\Users\\awaul\\OneDrive\\Documents\\Data\\Hacker_News_Data\\hacker_news.csv\")\n",
    "reader_file = reader(open_file)\n",
    "hn_data = list(reader_file)"
   ]
  },
  {
   "cell_type": "code",
   "execution_count": 94,
   "id": "21457839",
   "metadata": {},
   "outputs": [
    {
     "name": "stdout",
     "output_type": "stream",
     "text": [
      "[['id', 'title', 'url', 'num_points', 'num_comments', 'author', 'created_at'], ['10176923', \"Why we aren't tempted to use ACLs on our Unix machines\", 'https://utcc.utoronto.ca/~cks/space/blog/sysadmin/NoACLTemptation', '34', '23', 'mjn', '9/6/2015 6:03'], ['10177011', 'Video Poker Hackers Cleared of Federal Charges', 'http://www.wired.com/2013/11/video--poker-case/', '23', '3', 'trengrj', '9/6/2015 7:25'], ['10177048', 'The Microservices Way  Weekly Microserivces Newsletter', 'https://www.getrevue.co/profile/microservices', '1', '1', 'britman', '9/6/2015 7:50'], ['10177077', 'The Hitler at Home stories of the pre-WWII American press', 'http://www.atlasobscura.com/articles/the-american-medias-awkward-fawning-over-hitlers-taste-in-home-decor', '75', '75', 'aaronbrethorst', '9/6/2015 8:05']]\n"
     ]
    }
   ],
   "source": [
    "# Print the first 5 rows of data\n",
    "\n",
    "print(hn_data[:5])"
   ]
  },
  {
   "cell_type": "markdown",
   "id": "ab172f0d",
   "metadata": {},
   "source": [
    "To simplify our code, we will extract the header row from the dataset and assign it to the variable `headers`. The dataset is saved as a list of lists and assigned to the variable `hn _data`."
   ]
  },
  {
   "cell_type": "code",
   "execution_count": 95,
   "id": "419c431a",
   "metadata": {},
   "outputs": [
    {
     "name": "stdout",
     "output_type": "stream",
     "text": [
      "['id', 'title', 'url', 'num_points', 'num_comments', 'author', 'created_at']\n"
     ]
    }
   ],
   "source": [
    "# Extract the header row\n",
    "\n",
    "headers = hn_data[0]\n",
    "print(headers)"
   ]
  },
  {
   "cell_type": "code",
   "execution_count": 96,
   "id": "33c00d5d",
   "metadata": {},
   "outputs": [
    {
     "name": "stdout",
     "output_type": "stream",
     "text": [
      "[['10176923', \"Why we aren't tempted to use ACLs on our Unix machines\", 'https://utcc.utoronto.ca/~cks/space/blog/sysadmin/NoACLTemptation', '34', '23', 'mjn', '9/6/2015 6:03'], ['10177011', 'Video Poker Hackers Cleared of Federal Charges', 'http://www.wired.com/2013/11/video--poker-case/', '23', '3', 'trengrj', '9/6/2015 7:25'], ['10177048', 'The Microservices Way  Weekly Microserivces Newsletter', 'https://www.getrevue.co/profile/microservices', '1', '1', 'britman', '9/6/2015 7:50'], ['10177077', 'The Hitler at Home stories of the pre-WWII American press', 'http://www.atlasobscura.com/articles/the-american-medias-awkward-fawning-over-hitlers-taste-in-home-decor', '75', '75', 'aaronbrethorst', '9/6/2015 8:05'], ['10177103', 'GM crops created superweed, say scientists (2005)', 'http://www.theguardian.com/science/2005/jul/25/gm.food', '58', '27', 'x5n1', '9/6/2015 8:24']]\n"
     ]
    }
   ],
   "source": [
    "# Remove the header row from hn_data\n",
    "\n",
    "hn_data = hn_data[1:]\n",
    "print(hn_data[:5])"
   ]
  },
  {
   "cell_type": "code",
   "execution_count": 97,
   "id": "38af4fb7",
   "metadata": {},
   "outputs": [
    {
     "name": "stdout",
     "output_type": "stream",
     "text": [
      "Data Fields:  ['id', 'title', 'url', 'num_points', 'num_comments', 'author', 'created_at']\n"
     ]
    }
   ],
   "source": [
    "# Review the field names in the header row\n",
    "\n",
    "print(\"Data Fields: \", headers)"
   ]
  },
  {
   "cell_type": "code",
   "execution_count": 98,
   "id": "f039f53c",
   "metadata": {},
   "outputs": [
    {
     "name": "stdout",
     "output_type": "stream",
     "text": [
      "There are 20,099 records in the dataset.\n"
     ]
    }
   ],
   "source": [
    "# Examine the number of records or rows in the dataset\n",
    "\n",
    "print(\"There are\", f'{len(hn_data):,}',\"records in the dataset.\")"
   ]
  },
  {
   "cell_type": "code",
   "execution_count": 99,
   "id": "4c96de1b",
   "metadata": {},
   "outputs": [
    {
     "name": "stdout",
     "output_type": "stream",
     "text": [
      "Dataset begins on:  09/06/2015\n",
      "Dataset ends on:  09/26/2016\n"
     ]
    }
   ],
   "source": [
    "# Examine the timespan covered by the dataset\n",
    "\n",
    "import datetime as dt\n",
    "date_format = \"%m/%d/%Y %H:%M\"\n",
    "\n",
    "dates = []\n",
    "\n",
    "for row in hn_data:\n",
    "    date = row[-1]\n",
    "    date = dt.datetime.strptime(date,date_format)\n",
    "    dates.append(date)\n",
    "\n",
    "print(\"Dataset begins on: \",dt.datetime.strftime(min(dates),\"%m/%d/%Y\"))\n",
    "print(\"Dataset ends on: \", dt.datetime.strftime(max(dates),\"%m/%d/%Y\"))\n"
   ]
  },
  {
   "cell_type": "markdown",
   "id": "2f446659",
   "metadata": {},
   "source": [
    "## Filter the Data"
   ]
  },
  {
   "cell_type": "markdown",
   "id": "ccb205ed",
   "metadata": {},
   "source": [
    "The first objective of this study is to identify which category of posts receives the most comments on average. We will segment the data into three groups; `ask_posts`, `show_posts` and `other_posts`.\n",
    "\n",
    "We can use the `.startswith` method to filter posts by their title and append each record to the appropriate list."
   ]
  },
  {
   "cell_type": "code",
   "execution_count": 100,
   "id": "79431665",
   "metadata": {},
   "outputs": [],
   "source": [
    "# Filter the posts and assign to the appropriate category\n",
    "# (ask_posts, show_posts or other_posts)\n",
    "\n",
    "ask_posts = []\n",
    "show_posts = []\n",
    "other_posts = []\n",
    "\n",
    "for post in hn_data:\n",
    "    title = post[1].lower()\n",
    "    \n",
    "    if title.startswith('ask hn'):\n",
    "        ask_posts.append(post)\n",
    "        \n",
    "    elif title.startswith('show hn'):\n",
    "        show_posts.append(post)\n",
    "        \n",
    "    else:\n",
    "        other_posts.append(post)"
   ]
  },
  {
   "cell_type": "code",
   "execution_count": 101,
   "id": "be246be1",
   "metadata": {},
   "outputs": [
    {
     "name": "stdout",
     "output_type": "stream",
     "text": [
      "[['10177801', 'Ask HN: How to keep young developers', '', '3', '6', 'orangeplus', '9/6/2015 14:53'], ['10182770', 'Ask HN: If you are learning Chinese', '', '1', '2', 'goodcharacters', '9/7/2015 19:54'], ['10182780', 'Ask HN: Are freemium microservices a thing?', '', '1', '2', 'hyperpallium', '9/7/2015 19:56']]\n",
      "\n",
      "\n",
      "[['10177459', 'Show HN: AppyPaper  Gift wrap with app icons printed on it', 'http://www.appypaper.com/', '6', '4', 'submitstartup', '9/6/2015 12:38'], ['10179920', 'Show HN: Easiest way to build html tables in React', 'https://github.com/legitcode/table', '3', '2', 'zackify', '9/7/2015 3:20'], ['10180369', 'Show HN: Chemozart  molecule editor and visualizer with mechanics calculators', 'https://github.com/mohebifar/chemozart', '34', '17', 'mohebifar', '9/7/2015 6:50']]\n",
      "\n",
      "\n",
      "[['10176923', \"Why we aren't tempted to use ACLs on our Unix machines\", 'https://utcc.utoronto.ca/~cks/space/blog/sysadmin/NoACLTemptation', '34', '23', 'mjn', '9/6/2015 6:03'], ['10177011', 'Video Poker Hackers Cleared of Federal Charges', 'http://www.wired.com/2013/11/video--poker-case/', '23', '3', 'trengrj', '9/6/2015 7:25'], ['10177048', 'The Microservices Way  Weekly Microserivces Newsletter', 'https://www.getrevue.co/profile/microservices', '1', '1', 'britman', '9/6/2015 7:50']]\n"
     ]
    }
   ],
   "source": [
    "# View the first 3 posts for each category\n",
    "\n",
    "print(ask_posts[:3])\n",
    "print('\\n')\n",
    "print(show_posts[:3])\n",
    "print('\\n')\n",
    "print(other_posts[:3])"
   ]
  },
  {
   "cell_type": "code",
   "execution_count": 102,
   "id": "178804e8",
   "metadata": {},
   "outputs": [
    {
     "name": "stdout",
     "output_type": "stream",
     "text": [
      "Number of 'Ask HN' posts: 1,744\n",
      "Number of 'Show HN' posts: 1,162\n",
      "Number of  'Other' posts: 17,193\n"
     ]
    }
   ],
   "source": [
    "# Review the number of posts for each category \n",
    "\n",
    "print(\"Number of 'Ask HN' posts:\", f'{len(ask_posts):,}')\n",
    "print(\"Number of 'Show HN' posts:\", f'{len(show_posts):,}')\n",
    "print(\"Number of  'Other' posts:\", f'{len(other_posts):,}')"
   ]
  },
  {
   "cell_type": "markdown",
   "id": "395490bf",
   "metadata": {},
   "source": [
    "## Average Number of Comments by Category"
   ]
  },
  {
   "cell_type": "markdown",
   "id": "2daf36c4",
   "metadata": {},
   "source": [
    "We can write a function, `avg_comments`, to determine the average number of posts within each category. The parameters for the function are list and index, the default argument for index is set to 4. \n",
    "\n",
    "Writing a function for this task allows us to leverage our code and calculate the average number of comments within each category."
   ]
  },
  {
   "cell_type": "code",
   "execution_count": 103,
   "id": "d314bfd2",
   "metadata": {},
   "outputs": [],
   "source": [
    "# Which type of post receives the most comments on average?\n",
    "\n",
    "# Use a function to calculate the average number of comments per category\n",
    "\n",
    "def avg_comments(list, index=4):\n",
    "    total_comments = 0\n",
    "    for row in list:\n",
    "        num_comments = int(row[index])\n",
    "        total_comments += num_comments\n",
    "    \n",
    "    avg_comments = total_comments / len(list)\n",
    "    return avg_comments"
   ]
  },
  {
   "cell_type": "code",
   "execution_count": 104,
   "id": "aa7babc5",
   "metadata": {},
   "outputs": [
    {
     "name": "stdout",
     "output_type": "stream",
     "text": [
      "Average comments for 'Ask HN': 14.0\n",
      "\n",
      "\n",
      "Average comments for 'Show HN': 10.3\n",
      "\n",
      "\n",
      "Average comments for 'Other': 26.9\n",
      "\n",
      "\n"
     ]
    }
   ],
   "source": [
    "# Which category of posts receives the most comments on average?\n",
    "\n",
    "print(\"Average comments for 'Ask HN':\",f'{avg_comments(ask_posts):.1f}')\n",
    "print('\\n')\n",
    "print(\"Average comments for 'Show HN':\",f'{avg_comments(show_posts):.1f}')\n",
    "print('\\n')\n",
    "print(\"Average comments for 'Other':\",f'{avg_comments(other_posts):.1f}')\n",
    "print('\\n')"
   ]
  },
  {
   "cell_type": "markdown",
   "id": "21a671e5",
   "metadata": {},
   "source": [
    "**'On average, we can see 'Ask HN' posts generate more comments vs. 'Show HN' posts. Posts within the 'Other' category attract the greatest number of comments on average.**"
   ]
  },
  {
   "cell_type": "markdown",
   "id": "2ad07de9",
   "metadata": {},
   "source": [
    "## Best Times to Post on Hacker News"
   ]
  },
  {
   "cell_type": "markdown",
   "id": "8d220abf",
   "metadata": {},
   "source": [
    "The next objective is to determine the best times to submit a post that will attract comments from the Hacker News community. We will write a series of functions that will generate a frequency table for each type of post. The tables will contain the best hours for a user submit a post, when ranked by average number of comments in descending order."
   ]
  },
  {
   "cell_type": "code",
   "execution_count": 105,
   "id": "6c1da6d8",
   "metadata": {},
   "outputs": [
    {
     "name": "stdout",
     "output_type": "stream",
     "text": [
      "{'14': 107, '19': 110, '15': 116, '20': 80, '00': 55, '01': 60, '03': 54, '07': 34, '16': 108, '22': 71, '05': 46, '13': 85, '10': 59, '11': 58, '17': 100, '23': 68, '12': 73, '06': 44, '18': 109, '09': 45, '04': 47, '21': 109, '02': 58, '08': 48}\n"
     ]
    }
   ],
   "source": [
    "# Write a function to calculate the frequency of posts by hour\n",
    "# Recall, date_format = \"%m/%d/%Y %H:%M\"\n",
    "\n",
    "def posts_by_hour(category_list):\n",
    "    \n",
    "    counts_by_hour = {}\n",
    "    \n",
    "    for post in category_list:\n",
    "        date = post[-1]\n",
    "        time = dt.datetime.strptime(date, date_format).strftime('%H')\n",
    "        \n",
    "        if time in counts_by_hour:\n",
    "            counts_by_hour[time] += 1\n",
    "        else:\n",
    "            counts_by_hour[time] = 1\n",
    "            \n",
    "    return counts_by_hour\n",
    "\n",
    "\n",
    "a = posts_by_hour(ask_posts)\n",
    "print(a)"
   ]
  },
  {
   "cell_type": "markdown",
   "id": "8f05597d",
   "metadata": {},
   "source": [
    "The keys in the `counts_by_hour` dictionary represents the hour of day, values represent the number of posts submitted during the hour of day.\n",
    "\n",
    "Example: The total number of Ask HN posts submitted during 14:00 hours was 107."
   ]
  },
  {
   "cell_type": "code",
   "execution_count": 115,
   "id": "6c49a88c",
   "metadata": {},
   "outputs": [
    {
     "name": "stdout",
     "output_type": "stream",
     "text": [
      "107\n"
     ]
    }
   ],
   "source": [
    "print(posts_by_hour(ask_posts)['14'])"
   ]
  },
  {
   "cell_type": "code",
   "execution_count": 106,
   "id": "82472a6e",
   "metadata": {},
   "outputs": [
    {
     "name": "stdout",
     "output_type": "stream",
     "text": [
      "{'14': 1416, '19': 1188, '15': 4477, '20': 1722, '00': 447, '01': 683, '03': 421, '07': 267, '16': 1814, '22': 479, '05': 464, '13': 1253, '10': 793, '11': 641, '17': 1146, '23': 543, '12': 687, '06': 397, '18': 1439, '09': 251, '04': 337, '21': 1745, '02': 1381, '08': 492}\n"
     ]
    }
   ],
   "source": [
    "# Write a function to calculate the total number of comments for posts submitted in a particular time range\n",
    "\n",
    "def comments_by_hour(category_list):\n",
    "    com_by_hour = {}\n",
    "    for post in category_list:\n",
    "        date = post[-1]\n",
    "        time = dt.datetime.strptime(date, date_format).strftime('%H')\n",
    "        num_comments = int(post[4])\n",
    "        \n",
    "        if time in com_by_hour:\n",
    "            com_by_hour[time] += num_comments\n",
    "        else:\n",
    "            com_by_hour[time] = num_comments\n",
    "            \n",
    "    return com_by_hour\n",
    "\n",
    "b = comments_by_hour(ask_posts)\n",
    "print(b)"
   ]
  },
  {
   "cell_type": "markdown",
   "id": "a076d3c5",
   "metadata": {},
   "source": [
    "The keys in the `com_by_hour` dictionary represents the hour of day, values represent the total number of comments received by posts submitted during the hour of day.\n",
    "\n",
    "Example: Ask HN posts submitted during 14:00 hours received a total of 1,416 comments."
   ]
  },
  {
   "cell_type": "code",
   "execution_count": 107,
   "id": "af52d69f",
   "metadata": {},
   "outputs": [
    {
     "name": "stdout",
     "output_type": "stream",
     "text": [
      "1416\n"
     ]
    }
   ],
   "source": [
    "print(comments_by_hour(ask_posts)['14'])"
   ]
  },
  {
   "cell_type": "code",
   "execution_count": 108,
   "id": "4ab2fdf7",
   "metadata": {},
   "outputs": [],
   "source": [
    "# Write a function to calculate the average number of comments for posts submitted in a particular time range\n",
    "\n",
    "def avg_by_hour(category_comments_by_hr, category_posts_by_hour):\n",
    "    avg_by_hour = []\n",
    "\n",
    "    for hr in category_comments_by_hr:\n",
    "        avg_by_hour.append([hr, category_comments_by_hr[hr] / category_posts_by_hour[hr]])\n",
    "    \n",
    "    return avg_by_hour"
   ]
  },
  {
   "cell_type": "code",
   "execution_count": 121,
   "id": "7760d209",
   "metadata": {},
   "outputs": [
    {
     "name": "stdout",
     "output_type": "stream",
     "text": [
      "['14', 13.233644859813085]\n"
     ]
    }
   ],
   "source": [
    "print(avg_by_hour(ask_hn_com_by_hr, ask_hn_posts_by_hr)[0])"
   ]
  },
  {
   "cell_type": "code",
   "execution_count": 120,
   "id": "e9b63216",
   "metadata": {},
   "outputs": [],
   "source": [
    "# Write a function to sort avg_by_hour results in descending order\n",
    "\n",
    "def sort_by_avg_comments(category_avg_by_hr):\n",
    "    swap_columns = []\n",
    "    for row in category_avg_by_hr:\n",
    "        swap_columns.append([row[1],row[0]])\n",
    "    sorted_swap = sorted(swap_columns, reverse=True)\n",
    "    return sorted_swap"
   ]
  },
  {
   "cell_type": "code",
   "execution_count": 122,
   "id": "06cfaa62",
   "metadata": {},
   "outputs": [
    {
     "name": "stdout",
     "output_type": "stream",
     "text": [
      "[[38.5948275862069, '15'], [23.810344827586206, '02'], [21.525, '20'], [16.796296296296298, '16'], [16.009174311926607, '21'], [14.741176470588234, '13'], [13.440677966101696, '10'], [13.233644859813085, '14'], [13.20183486238532, '18'], [11.46, '17'], [11.383333333333333, '01'], [11.051724137931034, '11'], [10.8, '19'], [10.25, '08'], [10.08695652173913, '05'], [9.41095890410959, '12'], [9.022727272727273, '06'], [8.127272727272727, '00'], [7.985294117647059, '23'], [7.852941176470588, '07'], [7.796296296296297, '03'], [7.170212765957447, '04'], [6.746478873239437, '22'], [5.5777777777777775, '09']]\n"
     ]
    }
   ],
   "source": [
    "print(sort_by_avg_comments(ask_hn_avg_by_hr))"
   ]
  },
  {
   "cell_type": "code",
   "execution_count": 110,
   "id": "45d3f69f",
   "metadata": {},
   "outputs": [],
   "source": [
    "# Write a function to format the results\n",
    "\n",
    "def f_print_top5(title, list_sort_by_avg):\n",
    "    print(title)\n",
    "    for avg, hr in list_sort_by_avg[:5]:\n",
    "        print(\"{}: {:.2f} average comments per post\".format(dt.datetime.strptime(hr, \"%H\").strftime(\"%I:%M %p\"),avg))"
   ]
  },
  {
   "cell_type": "markdown",
   "id": "f268262a",
   "metadata": {},
   "source": [
    "Now we can call on the functions to produce a frequency table for each category. We will start with the posts prefixed with Ask HN, then we will compare the results for the Show HN and Other categories."
   ]
  },
  {
   "cell_type": "code",
   "execution_count": 111,
   "id": "09b79aba",
   "metadata": {},
   "outputs": [
    {
     "name": "stdout",
     "output_type": "stream",
     "text": [
      "Best Times to Post for 'Ask HN' Comments\n",
      "03:00 PM: 38.59 average comments per post\n",
      "02:00 AM: 23.81 average comments per post\n",
      "08:00 PM: 21.52 average comments per post\n",
      "04:00 PM: 16.80 average comments per post\n",
      "09:00 PM: 16.01 average comments per post\n"
     ]
    }
   ],
   "source": [
    "# When are the best times for Ask HN posts?\n",
    "\n",
    "ask_hn_com_by_hr = comments_by_hour(ask_posts)\n",
    "\n",
    "ask_hn_posts_by_hr = posts_by_hour(ask_posts)\n",
    "\n",
    "ask_hn_avg_by_hr = avg_by_hour(ask_hn_com_by_hr, ask_hn_posts_by_hr)\n",
    "\n",
    "best_time_to_post_ask_hn = sort_by_avg_comments(ask_hn_avg_by_hr)\n",
    "\n",
    "f_print_top5(\"Best Times to Post for 'Ask HN' Comments\",best_time_to_post_ask_hn)"
   ]
  },
  {
   "cell_type": "markdown",
   "id": "12fd06b0",
   "metadata": {},
   "source": [
    "The best time to submit a post to ask the Hacker News community a question is generally in the afternoon or evening hours."
   ]
  },
  {
   "cell_type": "code",
   "execution_count": 113,
   "id": "b8103588",
   "metadata": {},
   "outputs": [
    {
     "name": "stdout",
     "output_type": "stream",
     "text": [
      "Best Times to Post for 'Show HN' Comments\n",
      "06:00 PM: 15.77 average comments per post\n",
      "12:00 AM: 15.71 average comments per post\n",
      "02:00 PM: 13.44 average comments per post\n",
      "11:00 PM: 12.42 average comments per post\n",
      "10:00 PM: 12.39 average comments per post\n"
     ]
    }
   ],
   "source": [
    "# When are the best times for Show HN posts?\n",
    "\n",
    "show_hn_com_by_hr = comments_by_hour(show_posts)\n",
    "\n",
    "show_hn_posts_by_hr = posts_by_hour(show_posts)\n",
    "\n",
    "show_hn_avg_by_hr = avg_by_hour(show_hn_com_by_hr, show_hn_posts_by_hr)\n",
    "\n",
    "best_time_to_post_show_hn = sort_by_avg_comments(show_hn_avg_by_hr)\n",
    "\n",
    "f_print_top5(\"Best Times to Post for 'Show HN' Comments\", best_time_to_post_show_hn)\n"
   ]
  },
  {
   "cell_type": "markdown",
   "id": "a573c67a",
   "metadata": {},
   "source": [
    "The best time to submit a post to show the Hacker New community a project that you are working on is generally later in the evening."
   ]
  },
  {
   "cell_type": "code",
   "execution_count": 114,
   "id": "b53f3715",
   "metadata": {},
   "outputs": [
    {
     "name": "stdout",
     "output_type": "stream",
     "text": [
      "Best Times to Post 'Other Content' for Comments\n",
      "02:00 PM: 32.33 average comments per post\n",
      "01:00 PM: 30.90 average comments per post\n",
      "12:00 PM: 30.35 average comments per post\n",
      "11:00 AM: 29.59 average comments per post\n",
      "03:00 PM: 29.52 average comments per post\n"
     ]
    }
   ],
   "source": [
    "# When are the best times for Other Posts?\n",
    "\n",
    "other_com_by_hr = comments_by_hour(other_posts)\n",
    "\n",
    "other_posts_by_hr = posts_by_hour(other_posts)\n",
    "\n",
    "other_avg_by_hr = avg_by_hour(other_com_by_hr, other_posts_by_hr)\n",
    "\n",
    "best_time_to_post_other = sort_by_avg_comments(other_avg_by_hr)\n",
    "\n",
    "f_print_top5(\"Best Times to Post 'Other Content' for Comments\", best_time_to_post_other)"
   ]
  },
  {
   "cell_type": "markdown",
   "id": "d5d5f086",
   "metadata": {},
   "source": [
    "The afternoon is generally the best time to submit a post with 'Other Content' to generate comments from the Hacker News community."
   ]
  },
  {
   "cell_type": "markdown",
   "id": "19d14fe2",
   "metadata": {},
   "source": [
    "## Conclusion"
   ]
  },
  {
   "cell_type": "markdown",
   "id": "704bb0a0",
   "metadata": {},
   "source": [
    "To summarize our results, we found that on average 'Ask HN' posts received more comments than posts in the 'Show HN' category. But overall, posts to the 'Other' category received the most comments, on average, from the Hacker News community.\n",
    "\n",
    "The afternoon is the best time for members to post 'Other' content to generate comments from the Hacker News community. The top 5 hours to submit a post are between 11 AM and 3 PM.\n",
    "\n",
    "The best time to submit a post to ask the Hacker News community a question is generally later in the afternoon or early evening hours. The best hours to submit posts to 'Ask HN' were 3 PM, 4 PM, 8 PM, 9 PM and 2 AM.\n",
    "\n",
    "Posts to 'Show HN' attract more comments on average if they are submitted later in the afternoon or evening hours. The best hours to submit a 'Show HN' post were 2 PM, 6 PM, 10 PM, 11 PM and 12 AM."
   ]
  }
 ],
 "metadata": {
  "kernelspec": {
   "display_name": "Python [conda env:py39]",
   "language": "python",
   "name": "conda-env-py39-py"
  },
  "language_info": {
   "codemirror_mode": {
    "name": "ipython",
    "version": 3
   },
   "file_extension": ".py",
   "mimetype": "text/x-python",
   "name": "python",
   "nbconvert_exporter": "python",
   "pygments_lexer": "ipython3",
   "version": "3.9.7"
  },
  "toc": {
   "base_numbering": 1,
   "nav_menu": {},
   "number_sections": true,
   "sideBar": true,
   "skip_h1_title": true,
   "title_cell": "Table of Contents",
   "title_sidebar": "Contents",
   "toc_cell": false,
   "toc_position": {},
   "toc_section_display": true,
   "toc_window_display": true
  }
 },
 "nbformat": 4,
 "nbformat_minor": 5
}
